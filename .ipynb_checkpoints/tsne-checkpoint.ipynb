{
 "cells": [
  {
   "cell_type": "code",
   "execution_count": 1,
   "metadata": {
    "collapsed": true
   },
   "outputs": [],
   "source": [
    "# fetching all dependencies\n",
    "import numpy as np\n",
    "from sklearn.manifold import TSNE\n",
    "import plotly.plotly as py\n",
    "import plotly.graph_objs as go\n",
    "from plotly.tools import set_credentials_file\n",
    "\n",
    "set_credentials_file(username='bakeralex664', api_key='hWwBstLnNCX5CsDZpOSU')\n",
    "\n",
    "%load_ext autoreload\n",
    "%autoreload 2"
   ]
  },
  {
   "cell_type": "code",
   "execution_count": 2,
   "metadata": {
    "collapsed": true
   },
   "outputs": [],
   "source": [
    "pr_data = np.random.rand(50,20)"
   ]
  },
  {
   "cell_type": "code",
   "execution_count": 3,
   "metadata": {
    "collapsed": true
   },
   "outputs": [],
   "source": [
    "model = TSNE(n_components=3, random_state=0)"
   ]
  },
  {
   "cell_type": "code",
   "execution_count": 4,
   "metadata": {},
   "outputs": [
    {
     "name": "stdout",
     "output_type": "stream",
     "text": [
      "[[  1.03140549e+01   3.27672641e+00  -2.46534562e+01]\n",
      " [ -6.52420869e+01  -4.75845442e+01   3.24956621e+01]\n",
      " [ -2.52672377e+01  -1.39645920e+01  -3.77612886e+01]\n",
      " [  8.13750460e+00   1.74285030e+01   3.63291478e+01]\n",
      " [ -2.45115463e+01  -7.30914196e+00   4.12602721e+01]\n",
      " [ -2.66752163e+00   6.15363715e+00   1.01292909e+01]\n",
      " [  9.54718278e+00  -1.34427232e+01  -4.30280139e+01]\n",
      " [  2.38185728e+01  -4.31134702e+01   4.22313958e+01]\n",
      " [ -4.94268372e+01  -2.18250917e+01  -2.90034727e+01]\n",
      " [ -5.29453466e+00  -3.44994119e+01  -3.67406988e+01]\n",
      " [ -2.92807861e+01  -4.34484238e+00   8.75190321e-01]\n",
      " [ -1.83005434e+01  -1.33986236e+01   1.84990448e+01]\n",
      " [ -4.33296402e+01  -2.27708721e+01  -3.85203715e+00]\n",
      " [  3.31554976e+01   1.04792465e+01  -3.53840363e+01]\n",
      " [ -2.54712096e+01   1.29944361e+01   2.14348761e+01]\n",
      " [ -1.38441419e+01  -3.74921052e+01   1.58819194e+01]\n",
      " [ -4.22947854e+01   7.75386613e+01  -8.02408606e+01]\n",
      " [ -5.68686432e+00  -1.50952040e+01  -1.76372215e+01]\n",
      " [ -3.12478519e+01   3.99238833e+00  -2.24374418e+01]\n",
      " [ -7.26051338e+00   4.39295276e+00  -4.68474792e+01]\n",
      " [  2.31173339e+01   4.25042567e+01   4.76454467e+01]\n",
      " [  3.55545356e+01   3.06779740e+01   4.80581214e+00]\n",
      " [ -2.55537790e+01   3.08398451e+01   3.16147004e+00]\n",
      " [  2.19222653e+01   1.09078900e+01  -9.05545193e+00]\n",
      " [ -2.34611836e+01   2.36271947e+01  -3.73181687e+01]\n",
      " [  1.15338922e+01  -4.05008477e+01  -3.43223409e+00]\n",
      " [  2.00031826e+01  -7.58384158e+01   6.84711701e+01]\n",
      " [ -4.67027094e+02  -1.81243373e+02  -1.80673250e+01]\n",
      " [ -4.49038364e+00   3.82016010e+01   3.54968065e+01]\n",
      " [  1.97183118e+01  -1.57172703e+01   3.36877512e+01]\n",
      " [ -6.42886767e+01   5.87420184e+01   7.94876898e+01]\n",
      " [ -1.59491278e+01   3.77787364e+01  -1.68419238e+01]\n",
      " [  4.69707712e+01   1.46206382e+01  -1.47554069e+01]\n",
      " [  5.03789128e+00  -4.48806760e+01   2.59217205e+01]\n",
      " [  5.38694720e+02   3.17554252e+00  -3.48982273e+02]\n",
      " [ -7.59268564e-01  -2.92436233e+00   3.63478001e+01]\n",
      " [  2.37591662e+01  -1.73709308e+01  -1.29568100e+01]\n",
      " [  2.33577503e+01   3.36774926e+00   1.71444485e+01]\n",
      " [ -1.88359793e+01  -3.35534263e+01  -8.75637443e+00]\n",
      " [ -3.65593979e+01  -3.41614137e+01   2.52769205e+01]\n",
      " [  3.00079107e+01  -2.60969570e+01   1.15025125e+01]\n",
      " [  4.45074636e+01  -8.48464303e-01   3.61951842e+00]\n",
      " [  1.49776058e+01   3.56153446e+01   1.74417931e+01]\n",
      " [  2.96496569e+00   2.43396479e+01   3.96716729e-01]\n",
      " [ -1.11502717e+01   1.32874987e+01  -1.40031311e+01]\n",
      " [  8.68127177e+00   3.13322686e+01  -2.74876357e+01]\n",
      " [  2.20930580e+00  -1.74278176e+01   5.52691256e+00]\n",
      " [  6.66294757e+01  -6.24024473e+01  -1.23790482e+02]\n",
      " [  7.45722873e+01   2.35728928e+02   3.08683455e+02]\n",
      " [  7.66119013e-01   4.84421573e+01  -1.98207483e-01]]\n"
     ]
    }
   ],
   "source": [
    "reduced = model.fit_transform(pr_data)\n",
    "print(reduced)"
   ]
  },
  {
   "cell_type": "code",
   "execution_count": 7,
   "metadata": {
    "collapsed": true
   },
   "outputs": [],
   "source": [
    "# print(reduced[:,0])\n",
    "trace = go.Scatter3d(\n",
    "    x=reduced[:,0],\n",
    "    y=reduced[:,1],\n",
    "    z=reduced[:,2],\n",
    "    mode='markers',\n",
    "    marker=dict(\n",
    "        size=12,\n",
    "        line=dict(\n",
    "            color='rgba(217, 217, 217, 0.14)',\n",
    "            width=0.5\n",
    "        ),\n",
    "        opacity=0.8\n",
    "    )\n",
    ")\n",
    "\n",
    "layout = go.Layout(\n",
    "    margin=dict(\n",
    "        l=0,\n",
    "        r=0,\n",
    "        b=0,\n",
    "        t=0\n",
    "    )\n",
    ")"
   ]
  },
  {
   "cell_type": "code",
   "execution_count": 8,
   "metadata": {},
   "outputs": [
    {
     "name": "stdout",
     "output_type": "stream",
     "text": [
      "High five! You successfuly sent some data to your account on plotly. View your plot in your browser at https://plot.ly/~bakeralex664/0 or inside your plot.ly account where it is named 'simple-3d-scatter'\n"
     ]
    },
    {
     "data": {
      "text/html": [
       "<iframe id=\"igraph\" scrolling=\"no\" style=\"border:none;\" seamless=\"seamless\" src=\"https://plot.ly/~bakeralex664/0.embed\" height=\"525px\" width=\"100%\"></iframe>"
      ],
      "text/plain": [
       "<plotly.tools.PlotlyDisplay object>"
      ]
     },
     "execution_count": 8,
     "metadata": {},
     "output_type": "execute_result"
    }
   ],
   "source": [
    "fig = go.Figure(data=[trace], layout=layout)\n",
    "py.iplot(fig, filename='simple-3d-scatter')"
   ]
  }
 ],
 "metadata": {
  "kernelspec": {
   "display_name": "Python 3",
   "language": "python",
   "name": "python3"
  },
  "language_info": {
   "codemirror_mode": {
    "name": "ipython",
    "version": 3
   },
   "file_extension": ".py",
   "mimetype": "text/x-python",
   "name": "python",
   "nbconvert_exporter": "python",
   "pygments_lexer": "ipython3",
   "version": "3.5.3"
  }
 },
 "nbformat": 4,
 "nbformat_minor": 1
}
